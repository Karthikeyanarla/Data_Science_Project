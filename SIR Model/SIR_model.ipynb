{
 "cells": [
  {
   "cell_type": "markdown",
   "id": "e7891905",
   "metadata": {},
   "source": [
    "# SIR Model\n",
    "\n",
    "The SIR model is described by a system of three ordinary differential equations that govern the rate of change of each category (S, I, R) over time. The equations are:\n",
    "\n",
    "dS/dt = -βSI\n",
    "\n",
    "dI/dt = βSI - γI\n",
    "\n",
    "dR/dt = γI\n",
    "\n",
    "where:\n",
    "\n",
    "S is the number of susceptible individuals\n",
    "\n",
    "I is the number of infected individuals\n",
    "\n",
    "R is the number of recovered individuals\n",
    "\n",
    "β is the rate of transmission (how quickly the disease spreads from infected to susceptible individuals)\n",
    "\n",
    "γ is the recovery rate (how quickly infected individuals recover and become immune to the disease)\n",
    "\n",
    "- The first equation describes the rate of change of the susceptible population, which decreases as individuals become infected. The term -βSI represents the rate at which susceptible individuals become infected.\n",
    "\n",
    "- The second equation describes the rate of change of the infected population, which increases as individuals become infected and decreases as they recover. The term βSI represents the rate at which susceptible individuals become infected, while the term γI represents the rate at which infected individuals recover.\n",
    "\n",
    "- The third equation describes the rate of change of the recovered population, which increases as individuals recover from the disease. The term γI represents the rate at which infected individuals recover and become immune to the disease.\n",
    "\n",
    "- The SIR model is a simple but effective way to model the spread of infectious diseases in a population, and has been used to inform public health policy and decision-making during outbreaks.\n",
    "\n",
    "\n",
    "\n",
    "\n"
   ]
  },
  {
   "cell_type": "markdown",
   "id": "dafc6a5a",
   "metadata": {},
   "source": [
    "# Assumptions\n",
    "\n",
    "- The population is well-mixed, meaning that each individual has an equal chance of coming into contact with any other individual in the population.\n",
    "\n",
    "- The disease spreads through direct contact between individuals.\n",
    "\n",
    "- The rate of transmission depends on the number of infected individuals in the population."
   ]
  },
  {
   "cell_type": "code",
   "execution_count": 53,
   "id": "28ec6b60",
   "metadata": {},
   "outputs": [],
   "source": [
    "import pandas as pd\n",
    "import numpy as np\n",
    "import math\n",
    "import numpy as np\n",
    "import matplotlib.pyplot as plt\n",
    "from sklearn.linear_model import Ridge"
   ]
  },
  {
   "cell_type": "markdown",
   "id": "e40fcbcd",
   "metadata": {},
   "source": [
    "# Dataset preprocessing"
   ]
  },
  {
   "cell_type": "code",
   "execution_count": 54,
   "id": "e998e8a6",
   "metadata": {},
   "outputs": [],
   "source": [
    "data = pd.read_csv(\"covid_19_data.csv\")\n",
    "df = data.drop([\"Province/State\", \"Country/Region\", \"Last Update\"], axis =1)\n",
    "data = df.groupby(['ObservationDate', \"Confirmed\", \"Deaths\", \"Recovered\"])\n",
    "result = df.groupby(['ObservationDate']).agg({'Confirmed': sum,'Deaths': sum, \"Recovered\":sum, 'SNo': list}).reset_index()"
   ]
  },
  {
   "cell_type": "code",
   "execution_count": 55,
   "id": "304b008c",
   "metadata": {},
   "outputs": [],
   "source": [
    "result = df.groupby(['ObservationDate']).agg({'Confirmed': sum,'Deaths': sum, \"Recovered\":sum, 'SNo': list}).reset_index()\n",
    "result = result.sort_values(by='SNo')\n",
    "result = result.drop([\"SNo\"], axis =1 )\n",
    "input_data = pd.DataFrame()\n",
    "\n",
    "input_data[\"Confirmed\"] = result['Confirmed'].cumsum()\n",
    "input_data[\"Deaths\"] = result['Deaths'].cumsum()\n",
    "input_data[\"Recovered\"] = result['Recovered'].cumsum()\n",
    "input_data = input_data.reset_index()\n",
    "input_data = input_data.drop([\"index\"], axis =1)\n",
    "test_data = input_data\n",
    "test_data = test_data.tail(50)\n",
    "input_data = input_data"
   ]
  },
  {
   "cell_type": "code",
   "execution_count": 56,
   "id": "f6fcc36c",
   "metadata": {},
   "outputs": [],
   "source": [
    "def dataset(data, orders):\n",
    "    x_train = []\n",
    "    for i in range(len(data)  - orders):\n",
    "        x_train.append(data[i:orders + i])\n",
    "    return np.array(x_train), data[orders:]"
   ]
  },
  {
   "cell_type": "code",
   "execution_count": 57,
   "id": "41ff69ff",
   "metadata": {},
   "outputs": [],
   "source": [
    "population = 143932377600\n",
    "X_confirmed = np.array(input_data[\"Confirmed\"])\n",
    "recovered = np.array(input_data[\"Recovered\"])\n",
    "death = np.array(input_data[\"Deaths\"])\n",
    "\n",
    "\n",
    "X = X_confirmed - recovered - death\n",
    "R = recovered + death\n",
    "n = np.array([population] * len(X), dtype=np.float64)\n",
    "S = n - X - R"
   ]
  },
  {
   "cell_type": "code",
   "execution_count": 58,
   "id": "c1fafa53",
   "metadata": {},
   "outputs": [],
   "source": [
    "gamma = (R[1:] - R[:-1]) / X[:-1] #rate at which people recover or die\n",
    "beta = n[:-1] * (X[1:] - X[:-1] + R[1:] - R[:-1]) / (X[:-1] * (n[:-1] - X[:-1] - R[:-1])) #Transmission rate\n",
    "R0 = beta / gamma  #reproduction number"
   ]
  },
  {
   "cell_type": "code",
   "execution_count": 59,
   "id": "ce3d6cef",
   "metadata": {},
   "outputs": [],
   "source": [
    "\n",
    "x_beta, y_beta = dataset(beta, 10)\n",
    "x_gamma, y_gamma = dataset(gamma, 10)\n"
   ]
  },
  {
   "cell_type": "code",
   "execution_count": 60,
   "id": "bb54b55f",
   "metadata": {},
   "outputs": [],
   "source": [
    "import warnings\n",
    "warnings.filterwarnings(\"ignore\")\n",
    "\n",
    "beta_ = Ridge(alpha=0.1, fit_intercept=False, normalize=True)\n",
    "gamma_ = Ridge(alpha=0.1, fit_intercept=False, normalize=True)\n",
    "beta_.fit(x_beta, y_beta)\n",
    "gamma_.fit(x_gamma, y_gamma)\n",
    "\n",
    "#Prediction\n",
    "beta_pred = beta_.predict(x_beta)\n",
    "gamma_pred = beta_.predict(x_gamma)\n"
   ]
  },
  {
   "cell_type": "code",
   "execution_count": 65,
   "id": "3c430706",
   "metadata": {},
   "outputs": [
    {
     "name": "stdout",
     "output_type": "stream",
     "text": [
      "[117680325842.0]\n"
     ]
    }
   ],
   "source": [
    "S_predict = [S[-1]]\n",
    "X_predict = [X[-1]]\n",
    "R_predict = [R[-1]]\n",
    "\n",
    "predict_beta = np.array(beta[-10:]).tolist()\n",
    "predict_gamma = np.array(gamma[-10:]).tolist()\n",
    "print(S_predict)"
   ]
  },
  {
   "cell_type": "code",
   "execution_count": 66,
   "id": "4246c853",
   "metadata": {},
   "outputs": [],
   "source": [
    "for i in range(20): #lags = 10\n",
    "    next_beta = beta_.predict(np.asarray([predict_beta[-10:]]))[0]\n",
    "    next_gamma = gamma_.predict(np.asarray([predict_gamma[-10:]]))[0]\n",
    "    if next_beta<0:\n",
    "        predict_beta.append(0)\n",
    "    else:\n",
    "        predict_beta.append(next_beta)\n",
    "        \n",
    "    if next_gamma<0:\n",
    "        predict_gamma.append(0)\n",
    "    else:\n",
    "        predict_gamma.append(next_gamma)\n",
    "        \n",
    "    S_predict.append(((-predict_beta[-1] * S_predict[-1] * X_predict[-1]) / n[-1]) + S_predict[-1])\n",
    "    X_predict.append(((predict_beta[-1] * S_predict[-1] * X_predict[-1]) / n[-1]) - (predict_gamma[-1] * X_predict[-1]) + X_predict[-1])\n",
    "    R_predict.append((predict_gamma[-1] * X_predict[-1]) + R_predict[-1])\n",
    "\n",
    "\n",
    "    "
   ]
  },
  {
   "cell_type": "code",
   "execution_count": 67,
   "id": "b7474f80",
   "metadata": {},
   "outputs": [],
   "source": [
    "def plot():\n",
    "    plt.figure(1)\n",
    "    plt.title('SIR Model')\n",
    "    plt.plot(range(len(X) - 1, len(X) - 1 + len(X_predict)), X_predict, 'o' ,label=\"Positive Cases\", color='darkorange')\n",
    "    plt.plot(range(len(X) - 1, len(X) - 1 + len(X_predict)), R_predict, 'o', label=\"Recovered + Death\", color='blue')\n",
    "    plt.plot(range(400,len(X)), X[400:], 'o', label=\"Predicted Positive Cases\", color='red')\n",
    "    plt.plot(range(400, len(X)), R[400:], 'o', label=\"Predicted Recovered + Death\", color='darkblue')\n",
    "    plt.xlabel('Time Line(in days)')\n",
    "    plt.ylabel('Count')\n",
    "    plt.legend()\n",
    "    plt.show()"
   ]
  },
  {
   "cell_type": "code",
   "execution_count": 68,
   "id": "2413f37f",
   "metadata": {},
   "outputs": [
    {
     "name": "stdout",
     "output_type": "stream",
     "text": [
      "**************************************************\n",
      "Covid-19 infected cases:  10231128652\n",
      "Recovered + Deaths:  16181786476\n",
      "Expected Confirmed cases:  26412915129\n",
      "**************************************************\n"
     ]
    },
    {
     "data": {
      "image/png": "[encoded data removed]",
      "text/plain": [
       "<Figure size 640x480 with 1 Axes>"
      ]
     },
     "metadata": {},
     "output_type": "display_data"
    }
   ],
   "source": [
    "print(\"*\"*50)\n",
    "print(\"Covid-19 infected cases: \", int(X_predict[1]))\n",
    "print(\"Recovered + Deaths: \", int(R_predict[1]))\n",
    "print(\"Expected Confirmed cases: \",int(X_predict[1] + R_predict[1]))\n",
    "print(\"*\"*50)\n",
    "plot()"
   ]
  }
 ],
 "metadata": {
  "kernelspec": {
   "display_name": "Python 3 (ipykernel)",
   "language": "python",
   "name": "python3"
  },
  "language_info": {
   "codemirror_mode": {
    "name": "ipython",
    "version": 3
   },
   "file_extension": ".py",
   "mimetype": "text/x-python",
   "name": "python",
   "nbconvert_exporter": "python",
   "pygments_lexer": "ipython3",
   "version": "3.11.1"
  }
 },
 "nbformat": 4,
 "nbformat_minor": 5
}
